{
 "cells": [
  {
   "cell_type": "code",
   "execution_count": 21,
   "id": "57879d04-94ee-4dd5-bc07-646f0c7504a6",
   "metadata": {},
   "outputs": [],
   "source": [
    "import pandas as pd\n",
    "from datetime import datetime\n",
    "import numpy as np"
   ]
  },
  {
   "cell_type": "code",
   "execution_count": 2,
   "id": "d9a8e80c-af04-40fc-b900-c05f74bc610e",
   "metadata": {},
   "outputs": [],
   "source": [
    "# Parse in-situ data for NEON sites provided by Luke Brown\n",
    "def parse_insitu(df):\n",
    "    dfout = pd.DataFrame(df['SITE']).rename(columns={\"SITE\":\"NEONSITE\"})\n",
    "    for col in df.columns: \n",
    "        if (\"flag\" in col)  or (\"SITE\" in col) or (\"NEONSITE\" in col) or (\"lat\" in col) or (\"lon\" in col) or (\"PLOT_ID\" in col) or (\"datetime\" in col) or (\"nlcd\" in col)  :\n",
    "            dfout = pd.concat([dfout, df[col]],axis=1)\n",
    "        else:\n",
    "            dfsplit = df[col].str.split('+',expand=True)\n",
    "            colname = col + 'est'\n",
    "            dfout = pd.concat([dfout, pd.DataFrame(dfsplit[0]).rename(columns={0:colname}).astype('float')],axis=1)\n",
    "            dfrsplit = df[col].str.rsplit('/',expand=True)\n",
    "            colname = col + \"error\"\n",
    "            dfout = pd.concat([dfout, pd.DataFrame(dfrsplit[1].str[1:]).rename(columns={1:colname}).astype('float').fillna(0)],axis=1)\n",
    "    return dfout"
   ]
  },
  {
   "cell_type": "code",
   "execution_count": 30,
   "id": "5290b680-7e3f-4e7a-b820-eeba77a013c9",
   "metadata": {},
   "outputs": [],
   "source": [
    "df_insitu = parse_insitu(pd.read_csv(\"C:/Users/rfernand/scaling/NEON_2013-22_RMs_updated.csv\"))\n",
    "df_insitu[\"system:time_start\"] = pd.to_datetime(df_insitu['datetime'].astype(str),dayfirst=True)\n",
    "df_insitu[\"system:time_end\"] = pd.to_datetime(df_insitu['datetime'].astype(str),dayfirst=True)\n",
    "df_insitu.to_csv(\"C:/Users/rfernand/scaling/NEON_2013-22_RMs_updated_parsed.csv\")"
   ]
  }
 ],
 "metadata": {
  "kernelspec": {
   "display_name": "Python 3 (ipykernel)",
   "language": "python",
   "name": "python3"
  },
  "language_info": {
   "codemirror_mode": {
    "name": "ipython",
    "version": 3
   },
   "file_extension": ".py",
   "mimetype": "text/x-python",
   "name": "python",
   "nbconvert_exporter": "python",
   "pygments_lexer": "ipython3",
   "version": "3.10.6"
  }
 },
 "nbformat": 4,
 "nbformat_minor": 5
}
