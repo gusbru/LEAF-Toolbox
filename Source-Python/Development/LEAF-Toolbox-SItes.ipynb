{
 "cells": [
  {
   "cell_type": "markdown",
   "metadata": {
    "tags": []
   },
   "source": [
    "# LEAFToolbox for Sites\n",
    "Applies the LEAF-ToolBox for mapping vegetation using satellite imagery over a list of sites, each defined using time stamped vector geographical objects.\n",
    "Cite as Fernandes, R. et al., 2021, \"LEAF Toolbox\", Canada Centre for Remote Sensing, https://github.com/rfernand387/LEAF-Toolbox/wiki, DOI: 10.5281/zenodo.4321298.\n",
    "\n",
    "\n",
    "LEAF currently supports two algorithms: \n",
    "SL2PV0 is the algorithm defined by Weiss and Baret (2016) with an update in Weiss and Baret (2020).  \n",
    "SL2PV1 defined in Fernandes et al. 2023 that attempts to correct for biases over forests observed in SL2PV1.\n",
    "\n",
    "\n",
    "Note: This is an exact copy of the Javascript version of the LEAF-ToolBox-SL2P for image by image products as implemented on December 1, 2023 17:21 EST: https://code.earthengine.google.com/8ee611fad1609740099eabbfe571189c. You will need a Google Earth Engine Account linked to a Google Account with sufficient disk space for the output.\n",
    "\n",
    "Refer to https://github.com/rfernand387/LEAF-Toolbox/tree/master/Source-Python for configuration of anaconda environment.\n",
    "\n",
    "\n",
    "Weiss, M. and Baret, F. 2016. S2ToolBox Level 2 products: LAI, FAPAR, FCOVER, 1.1. ed.\n",
    "Institut National de la Recherche Agronomique, Avignon, France. https://step.esa.\n",
    "int/docs/extra/ATBD_S2ToolBox_L2B_V1.1.pdf.\n",
    "\n",
    "Weiss, M., and Baret, F., 2020. S2ToolBox Level 2 Products: LAI, FAPAR, FCOVER, 2.0. ed.\n",
    "Institut National de la Recherche Agronomique, Avignon, France. https://step.esa.\n",
    "int/docs/extra/ATBD_S2ToolBox_L2B_V2.0.pdf.\n",
    "\n",
    "Fernandes et al., 2023. Evidence of a bias-variance tradeoff when mapping LAI over forests using Sentinel-2 imagery.  subitted to RSE>\n"
   ]
  },
  {
   "cell_type": "markdown",
   "metadata": {
    "tags": []
   },
   "source": [
    "## Setup Environment"
   ]
  },
  {
   "cell_type": "code",
   "execution_count": 1,
   "metadata": {},
   "outputs": [
    {
     "data": {
      "text/plain": [
       "True"
      ]
     },
     "execution_count": 1,
     "metadata": {},
     "output_type": "execute_result"
    }
   ],
   "source": [
    "# Provide your GEE authentificaton\n",
    "import ee\n",
    "ee.Authenticate()\n"
   ]
  },
  {
   "cell_type": "code",
   "execution_count": 2,
   "metadata": {},
   "outputs": [],
   "source": [
    "ee.Initialize()"
   ]
  },
  {
   "cell_type": "code",
   "execution_count": 85,
   "metadata": {},
   "outputs": [
    {
     "name": "stdout",
     "output_type": "stream",
     "text": [
      "Collecting matplotlib\n",
      "  Downloading matplotlib-3.8.2-cp312-cp312-win_amd64.whl.metadata (5.9 kB)\n",
      "Collecting contourpy>=1.0.1 (from matplotlib)\n",
      "  Downloading contourpy-1.2.0-cp312-cp312-win_amd64.whl.metadata (5.8 kB)\n",
      "Collecting cycler>=0.10 (from matplotlib)\n",
      "  Downloading cycler-0.12.1-py3-none-any.whl.metadata (3.8 kB)\n",
      "Collecting fonttools>=4.22.0 (from matplotlib)\n",
      "  Downloading fonttools-4.46.0-cp312-cp312-win_amd64.whl.metadata (159 kB)\n",
      "     ---------------------------------------- 0.0/159.4 kB ? eta -:--:--\n",
      "     -- ------------------------------------- 10.2/159.4 kB ? eta -:--:--\n",
      "     -- ------------------------------------- 10.2/159.4 kB ? eta -:--:--\n",
      "     -------------- ---------------------- 61.4/159.4 kB 656.4 kB/s eta 0:00:01\n",
      "     ------------------------------------ - 153.6/159.4 kB 1.3 MB/s eta 0:00:01\n",
      "     -------------------------------------- 159.4/159.4 kB 1.2 MB/s eta 0:00:00\n",
      "Collecting kiwisolver>=1.3.1 (from matplotlib)\n",
      "  Downloading kiwisolver-1.4.5-cp312-cp312-win_amd64.whl.metadata (6.5 kB)\n",
      "Requirement already satisfied: numpy<2,>=1.21 in c:\\users\\rfernand\\anaconda3\\envs\\geeenv\\lib\\site-packages (from matplotlib) (1.26.2)\n",
      "Requirement already satisfied: packaging>=20.0 in c:\\users\\rfernand\\anaconda3\\envs\\geeenv\\lib\\site-packages (from matplotlib) (23.2)\n",
      "Collecting pillow>=8 (from matplotlib)\n",
      "  Downloading Pillow-10.1.0-cp312-cp312-win_amd64.whl.metadata (9.6 kB)\n",
      "Requirement already satisfied: pyparsing>=2.3.1 in c:\\users\\rfernand\\anaconda3\\envs\\geeenv\\lib\\site-packages (from matplotlib) (3.1.1)\n",
      "Requirement already satisfied: python-dateutil>=2.7 in c:\\users\\rfernand\\anaconda3\\envs\\geeenv\\lib\\site-packages (from matplotlib) (2.8.2)\n",
      "Requirement already satisfied: six>=1.5 in c:\\users\\rfernand\\anaconda3\\envs\\geeenv\\lib\\site-packages (from python-dateutil>=2.7->matplotlib) (1.16.0)\n",
      "Downloading matplotlib-3.8.2-cp312-cp312-win_amd64.whl (7.6 MB)\n",
      "   ---------------------------------------- 0.0/7.6 MB ? eta -:--:--\n",
      "   - -------------------------------------- 0.4/7.6 MB 5.8 MB/s eta 0:00:02\n",
      "   -- ------------------------------------- 0.4/7.6 MB 6.1 MB/s eta 0:00:02\n",
      "   ----- ---------------------------------- 1.1/7.6 MB 7.5 MB/s eta 0:00:01\n",
      "   ------- -------------------------------- 1.5/7.6 MB 8.0 MB/s eta 0:00:01\n",
      "   ---------- ----------------------------- 1.9/7.6 MB 8.2 MB/s eta 0:00:01\n",
      "   ------------ --------------------------- 2.3/7.6 MB 8.3 MB/s eta 0:00:01\n",
      "   -------------- ------------------------- 2.8/7.6 MB 8.5 MB/s eta 0:00:01\n",
      "   ----------------- ---------------------- 3.3/7.6 MB 8.8 MB/s eta 0:00:01\n",
      "   ------------------- -------------------- 3.7/7.6 MB 8.8 MB/s eta 0:00:01\n",
      "   --------------------- ------------------ 4.2/7.6 MB 9.2 MB/s eta 0:00:01\n",
      "   ----------------------- ---------------- 4.5/7.6 MB 9.1 MB/s eta 0:00:01\n",
      "   -------------------------- ------------- 5.1/7.6 MB 9.4 MB/s eta 0:00:01\n",
      "   ----------------------------- ---------- 5.6/7.6 MB 9.2 MB/s eta 0:00:01\n",
      "   ------------------------------- -------- 5.9/7.6 MB 9.3 MB/s eta 0:00:01\n",
      "   --------------------------------- ------ 6.3/7.6 MB 9.2 MB/s eta 0:00:01\n",
      "   ----------------------------------- ---- 6.7/7.6 MB 9.4 MB/s eta 0:00:01\n",
      "   ------------------------------------ --- 7.1/7.6 MB 9.2 MB/s eta 0:00:01\n",
      "   ---------------------------------------  7.5/7.6 MB 9.4 MB/s eta 0:00:01\n",
      "   ---------------------------------------- 7.6/7.6 MB 8.9 MB/s eta 0:00:00\n",
      "Downloading contourpy-1.2.0-cp312-cp312-win_amd64.whl (187 kB)\n",
      "   ---------------------------------------- 0.0/187.7 kB ? eta -:--:--\n",
      "   ---------------------------------------- 187.7/187.7 kB 3.8 MB/s eta 0:00:00\n",
      "Downloading cycler-0.12.1-py3-none-any.whl (8.3 kB)\n",
      "Downloading fonttools-4.46.0-cp312-cp312-win_amd64.whl (2.2 MB)\n",
      "   ---------------------------------------- 0.0/2.2 MB ? eta -:--:--\n",
      "   -------- ------------------------------- 0.4/2.2 MB 13.9 MB/s eta 0:00:01\n",
      "   ------------------ --------------------- 1.0/2.2 MB 12.7 MB/s eta 0:00:01\n",
      "   --------------------------- ------------ 1.5/2.2 MB 11.7 MB/s eta 0:00:01\n",
      "   ----------------------------------- ---- 1.9/2.2 MB 11.1 MB/s eta 0:00:01\n",
      "   ---------------------------------------  2.2/2.2 MB 10.6 MB/s eta 0:00:01\n",
      "   ---------------------------------------- 2.2/2.2 MB 9.8 MB/s eta 0:00:00\n",
      "Downloading kiwisolver-1.4.5-cp312-cp312-win_amd64.whl (56 kB)\n",
      "   ---------------------------------------- 0.0/56.0 kB ? eta -:--:--\n",
      "   ---------------------------------------- 56.0/56.0 kB 973.7 kB/s eta 0:00:00\n",
      "Downloading Pillow-10.1.0-cp312-cp312-win_amd64.whl (2.6 MB)\n",
      "   ---------------------------------------- 0.0/2.6 MB ? eta -:--:--\n",
      "   --------- ------------------------------ 0.6/2.6 MB 13.3 MB/s eta 0:00:01\n",
      "   --------------- ------------------------ 1.0/2.6 MB 13.0 MB/s eta 0:00:01\n",
      "   ----------------------- ---------------- 1.5/2.6 MB 12.0 MB/s eta 0:00:01\n",
      "   ------------------------------ --------- 2.0/2.6 MB 11.5 MB/s eta 0:00:01\n",
      "   ------------------------------------- -- 2.4/2.6 MB 11.0 MB/s eta 0:00:01\n",
      "   ---------------------------------------  2.6/2.6 MB 11.8 MB/s eta 0:00:01\n",
      "   ---------------------------------------- 2.6/2.6 MB 10.4 MB/s eta 0:00:00\n",
      "Installing collected packages: pillow, kiwisolver, fonttools, cycler, contourpy, matplotlib\n",
      "Successfully installed contourpy-1.2.0 cycler-0.12.1 fonttools-4.46.0 kiwisolver-1.4.5 matplotlib-3.8.2 pillow-10.1.0\n",
      "Note: you may need to restart the kernel to use updated packages.\n"
     ]
    }
   ],
   "source": [
    "pip install matplotlib"
   ]
  },
  {
   "cell_type": "code",
   "execution_count": 3,
   "metadata": {},
   "outputs": [],
   "source": [
    "# Uncomment this if you are modifying modules\n",
    "%load_ext autoreload\n",
    "%autoreload 2"
   ]
  },
  {
   "cell_type": "code",
   "execution_count": 4,
   "metadata": {},
   "outputs": [],
   "source": [
    "# import LEAF modules\n",
    "import LEAF\n",
    "\n",
    "# import algorith definitions\n",
    "import SL2PV0 \n",
    "import SL2PV1"
   ]
  },
  {
   "cell_type": "markdown",
   "metadata": {
    "tags": []
   },
   "source": [
    "## Specify Sites to Process\n",
    "\n",
    "Sites correspond to readable Google Earth Engine Feature collections under which samples will be extracted.\n",
    "If the features have time stamps as properties the sampling interval can be restricted on a feature by feature basis.\n",
    "Otherwise the sampling interval must be specified the same for all features."
   ]
  },
  {
   "cell_type": "code",
   "execution_count": 5,
   "metadata": {},
   "outputs": [],
   "source": [
    "# List of GEE feature collections\n",
    "siteList=[\"projects/ee-modis250/assets/HuntClub\",\"projects/ee-modis250/assets/Nanaimo\",\"projects/ee-modis250/assets/Karachi\"]"
   ]
  },
  {
   "cell_type": "markdown",
   "metadata": {},
   "source": [
    "## Run LEAF "
   ]
  },
  {
   "cell_type": "code",
   "execution_count": null,
   "metadata": {},
   "outputs": [],
   "source": [
    "# Function definition\n",
    "#\n",
    "# LEAF.sampleSites\n",
    "# sitesDictionary = LEAF.sampleSites( siteList, \\\n",
    "#                                     imageCollectionName=\"COPERNICUS/S2_SR_HARMONIZED\",\\\n",
    "#                                     algorithm=SL2PV0, \\\n",
    "#                                     variableName=\"LAI\",\\\n",
    "#                                     maxCloudcover=90,\\\n",
    "#                                     outputScaleSize=20,\\\n",
    "#                                     inputScaleSize=20,\\\n",
    "#                                     bufferSpatialSize = 0,\\\n",
    "#                                     bufferTemporalSize = [0,0], \n",
    "#                                     subsamplingFraction=1)\n",
    "#                                   \n",
    "# Applies a LEAF toolbox algorithm to map a canopy variable for all clear sky unmasked pixels from an input image collection\n",
    "# falling within the spatial and temporal extents of features in a list of sites.  The spatial extent of features is defined by their GEE geometry.  \n",
    "# The temporal extent of features is defined by their \"system:time_start\" and \"system:time_end\" properties or user defined otherwise.\n",
    "#\n",
    "# Parameters:\n",
    "#\n",
    "# siteList: list of readable GEE feature collection assets.  Features must have a system:time_start and system:time_end property.\n",
    "# imageCollection: input image collection from one of the list defined by GEE\n",
    "#                 [\"COPERNICUS/S2_SR_HARMONIZED\",\"COPERNICUS/S2_SR_HARMONIZED_10m\",\"LANDSAT/LC08/C02/T1_L2\",\"LANDSAT/LC09/C02/T1_L2\",\"NASA/HLS/HLSL30/v002\"]\n",
    "# algorith: python module specifying LEAF algorithm to apply , currently one of list [\"SL2PV0\",\"SL2PV1\"]\n",
    "# variableName: variable to be mapped from one of the list [\"ALBEDO\",\"FAPAR\",\"FCOVER\",\"LAI\",\"CWC\",\"CCC\",\"DASF\"] defined by https://github.com/rfernand387/LEAF-Toolbox/wiki/Visualisation-Outputs              \n",
    "# maxCloudCover: maximum input image cloud cover percentage [0,100]\n",
    "# filterSize: width (m) of square filter applied to output\n",
    "# scaleSize: scale (m) applied to output imagery after applying algorithm (refer to https://developers.google.com/earth-engine/guides/scale)\n",
    "# inputScaleSize: scale (m) applied to input imagery before applying algorithm (refer to https://developers.google.com/earth-engine/guides/scale)\n",
    "# bufferSpatialSize: width (m) of spatial buffer applied to features prior to sampling\n",
    "# bufferTemporalSize: dilation (d) of start and end time of sampled features OR temporal interval [\"YYYY-MM-DD\",\"YYYY-MM-DD\"[ of start and end of time interval to sample.  \n",
    "# subsamplingFraction: fraction (0 to 1) of pixels to sample within a feature on any given image\n",
    "#                                                                                                                          \n",
    "# Output:\n",
    "#\n",
    "# sitesDictionary: dictionary with keys corresponding to sites and structure.  The value of each key is a dictionary with two keys:\n",
    "#                     'feature' : properties of the sampled feature\n",
    "#                     'SL2PV0' or 'SL2PV1' : a pandas data frame where columns correspond to algorithm output properties and rows correspond to a retrieval within the time and spatial interval of the feature               "
   ]
  },
  {
   "cell_type": "markdown",
   "metadata": {},
   "source": [
    "### Sample Surface Reflectance from various sensors over sites"
   ]
  },
  {
   "cell_type": "code",
   "execution_count": null,
   "metadata": {},
   "outputs": [],
   "source": [
    "# #Landsat 8\n",
    "# sitesDictionaryL08V0 = LEAF.sampleSites(siteList, \\\n",
    "#                                                 imageCollectionName='LANDSAT/LC08/C02/T1_L2',\\\n",
    "#                                                 algorithm=SL2PV0, \n",
    "#                                                 variableName=\"LAI\",\\\n",
    "#                                                 maxCloudcover=90,\\\n",
    "#                                                 outputScaleSize=30,\\\n",
    "#                                                 inputScaleSize=30,\\\n",
    "#                                                 bufferSpatialSize = 0,\\\n",
    "#                                                 bufferTemporalSize =[\"2021-04-01\",\"2022-10-01\"],  \\\n",
    "#                                                 subsamplingFraction = 0.99) \n",
    "# # Landsat 9\n",
    "# sitesDictionaryL09V0 = LEAF.sampleSites(siteList, \\\n",
    "#                                                 imageCollectionName='LANDSAT/LC09/C02/T1_L2',\\\n",
    "#                                                 algorithm=SL2PV0, \n",
    "#                                                 variableName=\"LAI\",\\\n",
    "#                                                 maxCloudcover=90,\\\n",
    "#                                                 outputScaleSize=30,\\\n",
    "#                                                 inputScaleSize=30,\\\n",
    "#                                                 bufferSpatialSize = 0,\\\n",
    "#                                                 bufferTemporalSize =[\"2021-04-01\",\"2022-10-01\"],  \\\n",
    "#                                                 subsamplingFraction = 0.99)  \n",
    "\n",
    "#HLS\n",
    "# sitesDictionaryHLSV0 = LEAF.sampleSites(siteList, \\\n",
    "#                                                 imageCollectionName=\"NASA/HLS/HLSL30/v002\",\\\n",
    "#                                                 algorithm=SL2PV0, \n",
    "#                                                 variableName=\"LAI\",\\\n",
    "#                                                 maxCloudcover=90,\\\n",
    "#                                                 outputScaleSize=30,\\\n",
    "#                                                 inputScaleSize=30,\\\n",
    "#                                                 bufferSpatialSize = 0,\\\n",
    "#                                                 bufferTemporalSize =[\"2021-04-01\",\"2022-10-01\"],  \\\n",
    "#                                                 subsamplingFraction = 0.99)         \n",
    "\n",
    "# S2\n",
    "sitesDictionaryS2V0 = LEAF.sampleSites(siteList, \\\n",
    "                                                imageCollectionName=\"COPERNICUS/S2_SR_HARMONIZED\",\\\n",
    "                                                algorithm=SL2PV1, \n",
    "                                                variableName=\"LAI\",\\\n",
    "                                                maxCloudcover=90,\\\n",
    "                                                outputScaleSize=20,\\\n",
    "                                                    inputScaleSize=20,\\\n",
    "                                                bufferSpatialSize = 0,\\\n",
    "                                                bufferTemporalSize =[\"2021-06-01\",\"2021-08-01\"],  \\\n",
    "                                                subsamplingFraction = 0.99)        "
   ]
  },
  {
   "cell_type": "markdown",
   "metadata": {},
   "source": [
    "## Visualize Results"
   ]
  },
  {
   "cell_type": "code",
   "execution_count": 86,
   "metadata": {},
   "outputs": [],
   "source": [
    "import pandas as pd\n",
    "import matplotlib.pyplot as plt"
   ]
  },
  {
   "cell_type": "code",
   "execution_count": 88,
   "metadata": {},
   "outputs": [
    {
     "data": {
      "image/png": "[encoded data removed]",
      "text/plain": [
       "<Figure size 1000x1000 with 1 Axes>"
      ]
     },
     "metadata": {},
     "output_type": "display_data"
    }
   ],
   "source": [
    "# Choose a site from the sitelist \n",
    "siteNum=0\n",
    "\n",
    "# Select the first feature \n",
    "featureNum = 0\n",
    "\n",
    "#Select one sampled pixel from each feature \n",
    "pixelNum = 3\n",
    "\n",
    "#Extract time series of LAI with high quality only\n",
    "# site = sitesDictionaryL08V0[siteList[siteNum]]\n",
    "# df=site[featureNum]['SL2PV0']\n",
    "# df['utc'] =  pd.to_datetime(df['date'],unit='ms')\n",
    "# pixelL08V0=df.loc[(df['longitude']==df.loc[pixelNum].longitude) & (df['latitude']==df.loc[pixelNum].latitude) & (df['QC']==0)]\n",
    "# site=sitesDictionaryL09V0[siteList[siteNum]]\n",
    "# df=site[featureNum]['SL2PV0']\n",
    "# df['utc'] =  pd.to_datetime(df['date'],unit='ms')\n",
    "# pixelL09V0=df.loc[(df['longitude']==df.loc[pixelNum].longitude) & (df['latitude']==df.loc[pixelNum].latitude) & df['QC']==0]\n",
    "# site=sitesDictionaryHLSV0[siteList[siteNum]]\n",
    "# df=site[featureNum]['SL2PV0']\n",
    "# df['utc'] =  pd.to_datetime(df['date'],unit='ms')\n",
    "# pixelHLSV0=df.loc[(df['longitude']==df.loc[pixelNum].longitude) & (df['latitude']==df.loc[pixelNum].latitude) & df['QC']==0]\n",
    "site=sitesDictionaryS2V0[siteList[siteNum]]\n",
    "df=site[featureNum]['SL2PV0']\n",
    "df['utc'] =  pd.to_datetime(df['date'],unit='ms')\n",
    "pixelS2V0=df.loc[(df['longitude']==df.loc[pixelNum].longitude) & (df['latitude']==df.loc[pixelNum].latitude) & df['QC']==0]\n",
    "\n",
    "\n",
    "fig,ax = plt.subplots(1,1,figsize=[10,10])\n",
    "# plt.plot(pixelL08V0['utc'],pixelL08V0['estimateLAI'],'ob',markerfacecolor='none', label='L08V1')\n",
    "# plt.plot(pixelL09V0['utc'],pixelL09V0['estimateLAI'],'ok',markerfacecolor='none', label='L09V1')\n",
    "# plt.plot(pixelHLSV0['utc'],pixelHLSV0['estimateLAI'],'oc',markerfacecolor='none', label='HLSV1')\n",
    "plt.plot(pixelS2V0['utc'],pixelS2V0['estimateLAI'],'or',markerfacecolor='none',label='S2V1')\n",
    "\n",
    "ax.legend()\n",
    "ax.set_xlabel('date')\n",
    "ax.set_ylabel('LAI')\n",
    "plt.xticks(rotation=90);"
   ]
  },
  {
   "cell_type": "code",
   "execution_count": 759,
   "metadata": {},
   "outputs": [
    {
     "name": "stdout",
     "output_type": "stream",
     "text": [
      "               date  QC  longitude   latitude  estimateLAI  partition  \\\n",
      "0     1620922234580   0 -75.794335  45.307432    -0.192295         15   \n",
      "1     1620922234580   0 -75.793569  45.307437    -0.187067         15   \n",
      "2     1620922234580   0 -75.793569  45.307437    -0.187067         15   \n",
      "3     1620922234580   0 -75.793569  45.307437    -0.187067         15   \n",
      "4     1620922234580   0 -75.792804  45.307443    -0.169688         15   \n",
      "...             ...  ..        ...        ...          ...        ...   \n",
      "1172  1664554243058   0 -75.794342  45.307972     1.849591         15   \n",
      "1173  1664554243058   0 -75.793577  45.307977     1.895486         15   \n",
      "1174  1664554243058   0 -75.793577  45.307977     1.895486         15   \n",
      "1175  1664554243058   0 -75.793577  45.307977     1.895486         15   \n",
      "1176  1664554243058   0 -75.792812  45.307983     1.849684         15   \n",
      "\n",
      "      networkID  errorLAI                     utc  \n",
      "0             0  0.156761 2021-05-13 16:10:34.580  \n",
      "1             0  0.158502 2021-05-13 16:10:34.580  \n",
      "2             0  0.158502 2021-05-13 16:10:34.580  \n",
      "3             0  0.158502 2021-05-13 16:10:34.580  \n",
      "4             0  0.145810 2021-05-13 16:10:34.580  \n",
      "...         ...       ...                     ...  \n",
      "1172          0  0.773306 2022-09-30 16:10:43.058  \n",
      "1173          0  0.781940 2022-09-30 16:10:43.058  \n",
      "1174          0  0.781940 2022-09-30 16:10:43.058  \n",
      "1175          0  0.781940 2022-09-30 16:10:43.058  \n",
      "1176          0  0.775178 2022-09-30 16:10:43.058  \n",
      "\n",
      "[1141 rows x 9 columns]\n"
     ]
    }
   ],
   "source": [
    "print(pixelS2V0)"
   ]
  }
 ],
 "metadata": {
  "kernelspec": {
   "display_name": "Python 3 (ipykernel)",
   "language": "python",
   "name": "python3"
  },
  "language_info": {
   "codemirror_mode": {
    "name": "ipython",
    "version": 3
   },
   "file_extension": ".py",
   "mimetype": "text/x-python",
   "name": "python",
   "nbconvert_exporter": "python",
   "pygments_lexer": "ipython3",
   "version": "3.12.0"
  }
 },
 "nbformat": 4,
 "nbformat_minor": 4
}
